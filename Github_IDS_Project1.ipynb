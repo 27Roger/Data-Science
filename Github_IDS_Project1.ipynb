{
  "nbformat": 4,
  "nbformat_minor": 0,
  "metadata": {
    "colab": {
      "provenance": [],
      "collapsed_sections": [
        "U8WHnnT677ua",
        "tP3eS08o8CnQ",
        "j_jY8mODd0JR",
        "VJroOLlBd9Mi",
        "VeBSTaSCecmf",
        "qrBx3zASfKmn",
        "suCEK3Szfqr9",
        "AUqGQfDOgIdF"
      ],
      "include_colab_link": true
    },
    "kernelspec": {
      "name": "python3",
      "display_name": "Python 3"
    },
    "language_info": {
      "name": "python"
    },
    "accelerator": "GPU",
    "gpuClass": "standard"
  },
  "cells": [
    {
      "cell_type": "markdown",
      "metadata": {
        "id": "view-in-github",
        "colab_type": "text"
      },
      "source": [
        "<a href=\"https://colab.research.google.com/github/27Roger/Data-Science/blob/main/Github_IDS_Project1.ipynb\" target=\"_parent\"><img src=\"https://colab.research.google.com/assets/colab-badge.svg\" alt=\"Open In Colab\"/></a>"
      ]
    },
    {
      "cell_type": "code",
      "execution_count": 107,
      "metadata": {
        "id": "pT0MSqNf6zIM"
      },
      "outputs": [],
      "source": [
        "from scipy.stats import mannwhitneyu, ttest_ind, kstest, f_oneway\n",
        "import matplotlib.pyplot as plt\n",
        "import pandas as pd\n",
        "import numpy as np"
      ]
    },
    {
      "cell_type": "code",
      "source": [
        "df = pd.read_csv(\"movieReplicationSet.csv\")\n",
        "df.head()"
      ],
      "metadata": {
        "colab": {
          "base_uri": "https://localhost:8080/",
          "height": 453
        },
        "id": "0-EgGbv77wnb",
        "outputId": "a18cfee3-707b-4b99-c367-9e36b4158137"
      },
      "execution_count": 57,
      "outputs": [
        {
          "output_type": "execute_result",
          "data": {
            "text/plain": [
              "   The Life of David Gale (2003)  Wing Commander (1999)  \\\n",
              "0                            NaN                    NaN   \n",
              "1                            NaN                    NaN   \n",
              "2                            NaN                    NaN   \n",
              "3                            NaN                    NaN   \n",
              "4                            NaN                    NaN   \n",
              "\n",
              "   Django Unchained (2012)  Alien (1979)  \\\n",
              "0                      4.0           NaN   \n",
              "1                      1.5           NaN   \n",
              "2                      NaN           NaN   \n",
              "3                      2.0           NaN   \n",
              "4                      3.5           NaN   \n",
              "\n",
              "   Indiana Jones and the Last Crusade (1989)  Snatch (2000)  \\\n",
              "0                                        3.0            NaN   \n",
              "1                                        NaN            NaN   \n",
              "2                                        NaN            NaN   \n",
              "3                                        3.0            NaN   \n",
              "4                                        0.5            NaN   \n",
              "\n",
              "   Rambo: First Blood Part II (1985)  Fargo (1996)  \\\n",
              "0                                NaN           NaN   \n",
              "1                                NaN           NaN   \n",
              "2                                NaN           NaN   \n",
              "3                                NaN           NaN   \n",
              "4                                0.5           1.0   \n",
              "\n",
              "   Let the Right One In (2008)  Black Swan (2010)  ...  \\\n",
              "0                          NaN                NaN  ...   \n",
              "1                          NaN                NaN  ...   \n",
              "2                          NaN                NaN  ...   \n",
              "3                          NaN                4.0  ...   \n",
              "4                          NaN                0.0  ...   \n",
              "\n",
              "   When watching a movie I cheer or shout or talk or curse at the screen  \\\n",
              "0                                                1.0                       \n",
              "1                                                3.0                       \n",
              "2                                                5.0                       \n",
              "3                                                3.0                       \n",
              "4                                                2.0                       \n",
              "\n",
              "   When watching a movie I feel like the things on the screen are happening to me  \\\n",
              "0                                                6.0                                \n",
              "1                                                1.0                                \n",
              "2                                                4.0                                \n",
              "3                                                1.0                                \n",
              "4                                                3.0                                \n",
              "\n",
              "   As a movie unfolds I start to have problems keeping track of events that happened earlier  \\\n",
              "0                                                2.0                                           \n",
              "1                                                1.0                                           \n",
              "2                                                3.0                                           \n",
              "3                                                1.0                                           \n",
              "4                                                2.0                                           \n",
              "\n",
              "   The emotions on the screen \"rub off\" on me - for instance if something sad is happening I get sad or if something frightening is happening I get scared  \\\n",
              "0                                                5.0                                                                                                         \n",
              "1                                                6.0                                                                                                         \n",
              "2                                                5.0                                                                                                         \n",
              "3                                                4.0                                                                                                         \n",
              "4                                                5.0                                                                                                         \n",
              "\n",
              "   When watching a movie I get completely immersed in the alternative reality of the film  \\\n",
              "0                                                5.0                                        \n",
              "1                                                5.0                                        \n",
              "2                                                5.0                                        \n",
              "3                                                5.0                                        \n",
              "4                                                6.0                                        \n",
              "\n",
              "   Movies change my position on social economic or political issues  \\\n",
              "0                                                5.0                  \n",
              "1                                                3.0                  \n",
              "2                                                4.0                  \n",
              "3                                                3.0                  \n",
              "4                                                4.0                  \n",
              "\n",
              "   When watching movies things get so intense that I have to stop watching  \\\n",
              "0                                                1.0                         \n",
              "1                                                2.0                         \n",
              "2                                                4.0                         \n",
              "3                                                1.0                         \n",
              "4                                                4.0                         \n",
              "\n",
              "   Gender identity (1 = female; 2 = male; 3 = self-described)  \\\n",
              "0                                                1.0            \n",
              "1                                                1.0            \n",
              "2                                                1.0            \n",
              "3                                                1.0            \n",
              "4                                                1.0            \n",
              "\n",
              "   Are you an only child? (1: Yes; 0: No; -1: Did not respond)  \\\n",
              "0                                                  0             \n",
              "1                                                  0             \n",
              "2                                                  1             \n",
              "3                                                  0             \n",
              "4                                                  1             \n",
              "\n",
              "   Movies are best enjoyed alone (1: Yes; 0: No; -1: Did not respond)  \n",
              "0                                                  1                   \n",
              "1                                                  0                   \n",
              "2                                                  0                   \n",
              "3                                                  1                   \n",
              "4                                                  1                   \n",
              "\n",
              "[5 rows x 477 columns]"
            ],
            "text/html": [
              "\n",
              "  <div id=\"df-f8dd8347-bfe7-4e52-bf01-adaa563019ea\">\n",
              "    <div class=\"colab-df-container\">\n",
              "      <div>\n",
              "<style scoped>\n",
              "    .dataframe tbody tr th:only-of-type {\n",
              "        vertical-align: middle;\n",
              "    }\n",
              "\n",
              "    .dataframe tbody tr th {\n",
              "        vertical-align: top;\n",
              "    }\n",
              "\n",
              "    .dataframe thead th {\n",
              "        text-align: right;\n",
              "    }\n",
              "</style>\n",
              "<table border=\"1\" class=\"dataframe\">\n",
              "  <thead>\n",
              "    <tr style=\"text-align: right;\">\n",
              "      <th></th>\n",
              "      <th>The Life of David Gale (2003)</th>\n",
              "      <th>Wing Commander (1999)</th>\n",
              "      <th>Django Unchained (2012)</th>\n",
              "      <th>Alien (1979)</th>\n",
              "      <th>Indiana Jones and the Last Crusade (1989)</th>\n",
              "      <th>Snatch (2000)</th>\n",
              "      <th>Rambo: First Blood Part II (1985)</th>\n",
              "      <th>Fargo (1996)</th>\n",
              "      <th>Let the Right One In (2008)</th>\n",
              "      <th>Black Swan (2010)</th>\n",
              "      <th>...</th>\n",
              "      <th>When watching a movie I cheer or shout or talk or curse at the screen</th>\n",
              "      <th>When watching a movie I feel like the things on the screen are happening to me</th>\n",
              "      <th>As a movie unfolds I start to have problems keeping track of events that happened earlier</th>\n",
              "      <th>The emotions on the screen \"rub off\" on me - for instance if something sad is happening I get sad or if something frightening is happening I get scared</th>\n",
              "      <th>When watching a movie I get completely immersed in the alternative reality of the film</th>\n",
              "      <th>Movies change my position on social economic or political issues</th>\n",
              "      <th>When watching movies things get so intense that I have to stop watching</th>\n",
              "      <th>Gender identity (1 = female; 2 = male; 3 = self-described)</th>\n",
              "      <th>Are you an only child? (1: Yes; 0: No; -1: Did not respond)</th>\n",
              "      <th>Movies are best enjoyed alone (1: Yes; 0: No; -1: Did not respond)</th>\n",
              "    </tr>\n",
              "  </thead>\n",
              "  <tbody>\n",
              "    <tr>\n",
              "      <th>0</th>\n",
              "      <td>NaN</td>\n",
              "      <td>NaN</td>\n",
              "      <td>4.0</td>\n",
              "      <td>NaN</td>\n",
              "      <td>3.0</td>\n",
              "      <td>NaN</td>\n",
              "      <td>NaN</td>\n",
              "      <td>NaN</td>\n",
              "      <td>NaN</td>\n",
              "      <td>NaN</td>\n",
              "      <td>...</td>\n",
              "      <td>1.0</td>\n",
              "      <td>6.0</td>\n",
              "      <td>2.0</td>\n",
              "      <td>5.0</td>\n",
              "      <td>5.0</td>\n",
              "      <td>5.0</td>\n",
              "      <td>1.0</td>\n",
              "      <td>1.0</td>\n",
              "      <td>0</td>\n",
              "      <td>1</td>\n",
              "    </tr>\n",
              "    <tr>\n",
              "      <th>1</th>\n",
              "      <td>NaN</td>\n",
              "      <td>NaN</td>\n",
              "      <td>1.5</td>\n",
              "      <td>NaN</td>\n",
              "      <td>NaN</td>\n",
              "      <td>NaN</td>\n",
              "      <td>NaN</td>\n",
              "      <td>NaN</td>\n",
              "      <td>NaN</td>\n",
              "      <td>NaN</td>\n",
              "      <td>...</td>\n",
              "      <td>3.0</td>\n",
              "      <td>1.0</td>\n",
              "      <td>1.0</td>\n",
              "      <td>6.0</td>\n",
              "      <td>5.0</td>\n",
              "      <td>3.0</td>\n",
              "      <td>2.0</td>\n",
              "      <td>1.0</td>\n",
              "      <td>0</td>\n",
              "      <td>0</td>\n",
              "    </tr>\n",
              "    <tr>\n",
              "      <th>2</th>\n",
              "      <td>NaN</td>\n",
              "      <td>NaN</td>\n",
              "      <td>NaN</td>\n",
              "      <td>NaN</td>\n",
              "      <td>NaN</td>\n",
              "      <td>NaN</td>\n",
              "      <td>NaN</td>\n",
              "      <td>NaN</td>\n",
              "      <td>NaN</td>\n",
              "      <td>NaN</td>\n",
              "      <td>...</td>\n",
              "      <td>5.0</td>\n",
              "      <td>4.0</td>\n",
              "      <td>3.0</td>\n",
              "      <td>5.0</td>\n",
              "      <td>5.0</td>\n",
              "      <td>4.0</td>\n",
              "      <td>4.0</td>\n",
              "      <td>1.0</td>\n",
              "      <td>1</td>\n",
              "      <td>0</td>\n",
              "    </tr>\n",
              "    <tr>\n",
              "      <th>3</th>\n",
              "      <td>NaN</td>\n",
              "      <td>NaN</td>\n",
              "      <td>2.0</td>\n",
              "      <td>NaN</td>\n",
              "      <td>3.0</td>\n",
              "      <td>NaN</td>\n",
              "      <td>NaN</td>\n",
              "      <td>NaN</td>\n",
              "      <td>NaN</td>\n",
              "      <td>4.0</td>\n",
              "      <td>...</td>\n",
              "      <td>3.0</td>\n",
              "      <td>1.0</td>\n",
              "      <td>1.0</td>\n",
              "      <td>4.0</td>\n",
              "      <td>5.0</td>\n",
              "      <td>3.0</td>\n",
              "      <td>1.0</td>\n",
              "      <td>1.0</td>\n",
              "      <td>0</td>\n",
              "      <td>1</td>\n",
              "    </tr>\n",
              "    <tr>\n",
              "      <th>4</th>\n",
              "      <td>NaN</td>\n",
              "      <td>NaN</td>\n",
              "      <td>3.5</td>\n",
              "      <td>NaN</td>\n",
              "      <td>0.5</td>\n",
              "      <td>NaN</td>\n",
              "      <td>0.5</td>\n",
              "      <td>1.0</td>\n",
              "      <td>NaN</td>\n",
              "      <td>0.0</td>\n",
              "      <td>...</td>\n",
              "      <td>2.0</td>\n",
              "      <td>3.0</td>\n",
              "      <td>2.0</td>\n",
              "      <td>5.0</td>\n",
              "      <td>6.0</td>\n",
              "      <td>4.0</td>\n",
              "      <td>4.0</td>\n",
              "      <td>1.0</td>\n",
              "      <td>1</td>\n",
              "      <td>1</td>\n",
              "    </tr>\n",
              "  </tbody>\n",
              "</table>\n",
              "<p>5 rows × 477 columns</p>\n",
              "</div>\n",
              "      <button class=\"colab-df-convert\" onclick=\"convertToInteractive('df-f8dd8347-bfe7-4e52-bf01-adaa563019ea')\"\n",
              "              title=\"Convert this dataframe to an interactive table.\"\n",
              "              style=\"display:none;\">\n",
              "        \n",
              "  <svg xmlns=\"http://www.w3.org/2000/svg\" height=\"24px\"viewBox=\"0 0 24 24\"\n",
              "       width=\"24px\">\n",
              "    <path d=\"M0 0h24v24H0V0z\" fill=\"none\"/>\n",
              "    <path d=\"M18.56 5.44l.94 2.06.94-2.06 2.06-.94-2.06-.94-.94-2.06-.94 2.06-2.06.94zm-11 1L8.5 8.5l.94-2.06 2.06-.94-2.06-.94L8.5 2.5l-.94 2.06-2.06.94zm10 10l.94 2.06.94-2.06 2.06-.94-2.06-.94-.94-2.06-.94 2.06-2.06.94z\"/><path d=\"M17.41 7.96l-1.37-1.37c-.4-.4-.92-.59-1.43-.59-.52 0-1.04.2-1.43.59L10.3 9.45l-7.72 7.72c-.78.78-.78 2.05 0 2.83L4 21.41c.39.39.9.59 1.41.59.51 0 1.02-.2 1.41-.59l7.78-7.78 2.81-2.81c.8-.78.8-2.07 0-2.86zM5.41 20L4 18.59l7.72-7.72 1.47 1.35L5.41 20z\"/>\n",
              "  </svg>\n",
              "      </button>\n",
              "      \n",
              "  <style>\n",
              "    .colab-df-container {\n",
              "      display:flex;\n",
              "      flex-wrap:wrap;\n",
              "      gap: 12px;\n",
              "    }\n",
              "\n",
              "    .colab-df-convert {\n",
              "      background-color: #E8F0FE;\n",
              "      border: none;\n",
              "      border-radius: 50%;\n",
              "      cursor: pointer;\n",
              "      display: none;\n",
              "      fill: #1967D2;\n",
              "      height: 32px;\n",
              "      padding: 0 0 0 0;\n",
              "      width: 32px;\n",
              "    }\n",
              "\n",
              "    .colab-df-convert:hover {\n",
              "      background-color: #E2EBFA;\n",
              "      box-shadow: 0px 1px 2px rgba(60, 64, 67, 0.3), 0px 1px 3px 1px rgba(60, 64, 67, 0.15);\n",
              "      fill: #174EA6;\n",
              "    }\n",
              "\n",
              "    [theme=dark] .colab-df-convert {\n",
              "      background-color: #3B4455;\n",
              "      fill: #D2E3FC;\n",
              "    }\n",
              "\n",
              "    [theme=dark] .colab-df-convert:hover {\n",
              "      background-color: #434B5C;\n",
              "      box-shadow: 0px 1px 3px 1px rgba(0, 0, 0, 0.15);\n",
              "      filter: drop-shadow(0px 1px 2px rgba(0, 0, 0, 0.3));\n",
              "      fill: #FFFFFF;\n",
              "    }\n",
              "  </style>\n",
              "\n",
              "      <script>\n",
              "        const buttonEl =\n",
              "          document.querySelector('#df-f8dd8347-bfe7-4e52-bf01-adaa563019ea button.colab-df-convert');\n",
              "        buttonEl.style.display =\n",
              "          google.colab.kernel.accessAllowed ? 'block' : 'none';\n",
              "\n",
              "        async function convertToInteractive(key) {\n",
              "          const element = document.querySelector('#df-f8dd8347-bfe7-4e52-bf01-adaa563019ea');\n",
              "          const dataTable =\n",
              "            await google.colab.kernel.invokeFunction('convertToInteractive',\n",
              "                                                     [key], {});\n",
              "          if (!dataTable) return;\n",
              "\n",
              "          const docLinkHtml = 'Like what you see? Visit the ' +\n",
              "            '<a target=\"_blank\" href=https://colab.research.google.com/notebooks/data_table.ipynb>data table notebook</a>'\n",
              "            + ' to learn more about interactive tables.';\n",
              "          element.innerHTML = '';\n",
              "          dataTable['output_type'] = 'display_data';\n",
              "          await google.colab.output.renderOutput(dataTable, element);\n",
              "          const docLink = document.createElement('div');\n",
              "          docLink.innerHTML = docLinkHtml;\n",
              "          element.appendChild(docLink);\n",
              "        }\n",
              "      </script>\n",
              "    </div>\n",
              "  </div>\n",
              "  "
            ]
          },
          "metadata": {},
          "execution_count": 57
        }
      ]
    },
    {
      "cell_type": "code",
      "source": [
        "df.shape"
      ],
      "metadata": {
        "colab": {
          "base_uri": "https://localhost:8080/"
        },
        "id": "TGN3-0XzuSQc",
        "outputId": "83b790fa-be53-458d-cc9d-2e459d7f27cc"
      },
      "execution_count": 58,
      "outputs": [
        {
          "output_type": "execute_result",
          "data": {
            "text/plain": [
              "(1097, 477)"
            ]
          },
          "metadata": {},
          "execution_count": 58
        }
      ]
    },
    {
      "cell_type": "code",
      "source": [
        "#Function definitions\n",
        "def get_category_difference_t(movie, x, y):\n",
        "  c1 = x[movie].values\n",
        "  c1 = c1[np.isfinite(c1)]\n",
        "  c2 = y[movie].values\n",
        "  c2 = c2[np.isfinite(c2)]\n",
        "  #t, tp = ttest_ind(c1, c2)\n",
        "  U, up = mannwhitneyu(c1, c2, alternative=\"two-sided\")\n",
        "  return(U, up)\n",
        "\n",
        "def get_category_difference_g(movie, x, y):\n",
        "  c1 = x[movie].values\n",
        "  c1 = c1[np.isfinite(c1)]\n",
        "  c2 = y[movie].values\n",
        "  c2 = c2[np.isfinite(c2)]\n",
        "  #t, tp = ttest_ind(c1, c2)\n",
        "  U, up = mannwhitneyu(c1, c2, alternative=\"greater\")\n",
        "  return(U,up)\n",
        "\n",
        "def get_difference(x, y):\n",
        "  c1 = x.values\n",
        "  c1 = c1[np.isfinite(c1)]\n",
        "  #print(len(c1))\n",
        "  c2 = y.values\n",
        "  c2 = c2[np.isfinite(c2)]\n",
        "  #print(len(c2))\n",
        "  #t, tp = ttest_ind(c1, c2)\n",
        "  k, p = kstest(c1, c2, alternative=\"two-sided\")\n",
        "  return(k,p)"
      ],
      "metadata": {
        "id": "5_eduHjB7z2x"
      },
      "execution_count": 170,
      "outputs": []
    },
    {
      "cell_type": "markdown",
      "source": [
        "## 1. Popularity Movies - \n",
        "Are movies that are more popular (operationalized as having more ratings) rated higher than movies that are less popular? \n",
        "[Hint: You can do a median-split of popularity to determine high vs. low popularity movies]   "
      ],
      "metadata": {
        "id": "U8WHnnT677ua"
      }
    },
    {
      "cell_type": "code",
      "source": [
        "movies = df.columns.to_list()[:400]\n",
        "not_null=np.empty((1,400))\n",
        "pop_median=[]\n",
        "unpop_median=[]\n",
        "\n",
        "for i in range(400):\n",
        "    one_movie=pd.to_numeric(df[movies[i]],errors='coerce').values\n",
        "    one_movie=one_movie[np.isfinite(one_movie)]\n",
        "    not_null[0][i]=len(one_movie)\n",
        "pop_median_det=np.median(not_null)\n",
        "\n",
        "not_popular_movies=[]\n",
        "popular_movies=[]\n",
        "for i in range(400):\n",
        "  if not_null[0][i]>int(pop_median_det):\n",
        "    popular_movies.append(movies[i])\n",
        "  else:\n",
        "    not_popular_movies.append(movies[i])\n",
        "\n",
        "for i in range(200):\n",
        "  one_movie=pd.to_numeric(df[not_popular_movies[i]],errors='coerce').values\n",
        "  one_movie=one_movie[np.isfinite(one_movie)]\n",
        "  unpop_median.append(np.median(one_movie))\n",
        "\n",
        "for i in range(len(popular_movies)):\n",
        "  one_movie=pd.to_numeric(df[popular_movies[i]],errors='coerce').values\n",
        "  one_movie=one_movie[np.isfinite(one_movie)]\n",
        "  pop_median.append(np.median(one_movie))\n",
        "\n",
        "U, p = mannwhitneyu(pop_median, unpop_median, alternative=\"greater\")\n",
        "print(\"U value =\", U)\n",
        "print(\"\\nP value =\", p)"
      ],
      "metadata": {
        "id": "ABAS0ban71on",
        "colab": {
          "base_uri": "https://localhost:8080/"
        },
        "outputId": "1dee8a3e-9bfe-4f9e-884f-9c80e76675c7"
      },
      "execution_count": 154,
      "outputs": [
        {
          "output_type": "stream",
          "name": "stdout",
          "text": [
            "U value = 33427.5\n",
            "\n",
            "P value = 9.929258851707232e-35\n"
          ]
        }
      ]
    },
    {
      "cell_type": "markdown",
      "source": [
        "## 2. New vs Old Movies \n",
        "Are movies that are newer rated differently than movies that are older? [Hint: Do a median split of year of \n",
        "release to contrast movies in terms of whether they are old or new] "
      ],
      "metadata": {
        "id": "tP3eS08o8CnQ"
      }
    },
    {
      "cell_type": "code",
      "source": [
        "movies_list = df.iloc[:,:400]\n",
        "_date = []\n",
        "for column in movies_list.columns:\n",
        "    _date.append((column, int(column[-5:-1])))\n",
        "sort_date = sorted(_date, key=lambda x:x[1])\n",
        "old = sort_date[:200]\n",
        "new = sort_date[200:]\n",
        "old_movies_list = [x[0] for x in old]\n",
        "new_movies_list = [x[0] for x in new]\n",
        "x=df[new_movies_list].median()\n",
        "y=df[old_movies_list].median()\n",
        "U, p = mannwhitneyu(x, y, alternative=\"two-sided\")\n",
        "print(\"U value =\", U)\n",
        "print(\"\\nP value =\", p)"
      ],
      "metadata": {
        "id": "fC9W9h7E741m",
        "colab": {
          "base_uri": "https://localhost:8080/"
        },
        "outputId": "d98c59a7-6d36-4824-b49c-07afffb46b7c"
      },
      "execution_count": 155,
      "outputs": [
        {
          "output_type": "stream",
          "name": "stdout",
          "text": [
            "U value = 21937.5\n",
            "\n",
            "P value = 0.07752243118272252\n"
          ]
        }
      ]
    },
    {
      "cell_type": "markdown",
      "source": [
        "## 3. Shrek Viewers\n",
        "Is enjoyment of ‘Shrek (2001)’ gendered, i.e. do male and female viewers rate it differently? "
      ],
      "metadata": {
        "id": "2VMz1m7wBMm2"
      }
    },
    {
      "cell_type": "code",
      "source": [
        "gender_column = \"Gender identity (1 = female; 2 = male; 3 = self-described)\"\n",
        "male_data =  df[df[gender_column]==2].iloc[:,:400]\n",
        "female_data =  df[df[gender_column]==1].iloc[:,:400]\n",
        "U, up = get_category_difference_t(\"Shrek (2001)\", male_data, female_data)\n",
        "print(\"Mann Whitney U Test U value =\", U)\n",
        "print(\"Mann Whitney U Test P value =\", up)"
      ],
      "metadata": {
        "colab": {
          "base_uri": "https://localhost:8080/"
        },
        "id": "WD28PvE_9ep_",
        "outputId": "3a88c6cb-4e8c-4a65-fa6e-5e250ba36b52"
      },
      "execution_count": 157,
      "outputs": [
        {
          "output_type": "stream",
          "name": "stdout",
          "text": [
            "Mann Whitney U Test U value = 82232.5\n",
            "Mann Whitney U Test P value = 0.050536625925559006\n"
          ]
        }
      ]
    },
    {
      "cell_type": "markdown",
      "source": [
        "## 4. Proportion of Movies - Gender Effect\n",
        "What proportion of movies are rated differently by male and female viewers?"
      ],
      "metadata": {
        "id": "uTd1dUFgK1KO"
      }
    },
    {
      "cell_type": "code",
      "source": [
        "movies = df.iloc[:,:400]\n",
        "columns = movies.columns\n",
        "print(columns)\n",
        "count = 0\n",
        "for i in columns:\n",
        "  p1,p2 = get_category_difference_t(i, male_data, female_data)\n",
        "  if p2 <=0.005:\n",
        "    # print(column, p)\n",
        "    count+=1\n",
        "print(count, \"/\",len(columns))\n",
        "print(\"Proportion :\", count/ len(columns))"
      ],
      "metadata": {
        "colab": {
          "base_uri": "https://localhost:8080/"
        },
        "id": "C0cxCiYDGeZs",
        "outputId": "e9207549-3d9c-4995-bd34-e8d897a03882"
      },
      "execution_count": 161,
      "outputs": [
        {
          "output_type": "stream",
          "name": "stdout",
          "text": [
            "Index(['The Life of David Gale (2003)', 'Wing Commander (1999)',\n",
            "       'Django Unchained (2012)', 'Alien (1979)',\n",
            "       'Indiana Jones and the Last Crusade (1989)', 'Snatch (2000)',\n",
            "       'Rambo: First Blood Part II (1985)', 'Fargo (1996)',\n",
            "       'Let the Right One In (2008)', 'Black Swan (2010)',\n",
            "       ...\n",
            "       'X-Men 2 (2003)', 'The Usual Suspects (1995)', 'The Mask (1994)',\n",
            "       'Jaws (1975)', 'Harry Potter and the Chamber of Secrets (2002)',\n",
            "       'Patton (1970)', 'Anaconda (1997)', 'Twister (1996)',\n",
            "       'MacArthur (1977)', 'Look Who's Talking (1989)'],\n",
            "      dtype='object', length=400)\n",
            "50 / 400\n",
            "Proportion : 0.125\n"
          ]
        }
      ]
    },
    {
      "cell_type": "markdown",
      "source": [
        "## 5. Lion King - Viewers \n",
        "Do people who are only children enjoy ‘The Lion King (1994)’ more than people with siblings? "
      ],
      "metadata": {
        "id": "bIx_r5cpK9ht"
      }
    },
    {
      "cell_type": "code",
      "source": [
        "only_child_column = \"Are you an only child? (1: Yes; 0: No; -1: Did not respond)\"\n",
        "sibling_data =  df[df[only_child_column]==0].iloc[:,:400]\n",
        "onlychild_data =  df[df[only_child_column]==1].iloc[:,:400]\n",
        "U,up = get_category_difference_g(\"The Lion King (1994)\", onlychild_data, sibling_data)\n",
        "print(\"Mann Whitney U Test U value =\", U)\n",
        "print(\"Mann Whitney U Test P value =\", up)"
      ],
      "metadata": {
        "colab": {
          "base_uri": "https://localhost:8080/"
        },
        "id": "ndZcdGVeHKSI",
        "outputId": "b1386a85-39ad-4ba1-9ae3-d4425571273a"
      },
      "execution_count": 158,
      "outputs": [
        {
          "output_type": "stream",
          "name": "stdout",
          "text": [
            "Mann Whitney U Test U value = 52929.0\n",
            "Mann Whitney U Test P value = 0.978419092554931\n"
          ]
        }
      ]
    },
    {
      "cell_type": "markdown",
      "source": [
        "## 6. Proportion of Movies - Only Child Effect \n",
        "What proportion of movies exhibit an “only child effect”, i.e. are rated different by viewers with siblings \n",
        "vs. those without? "
      ],
      "metadata": {
        "id": "djw2BxHsOrBn"
      }
    },
    {
      "cell_type": "code",
      "source": [
        "movies = df.iloc[:,:400]\n",
        "columns = movies.columns\n",
        "count = 0\n",
        "for column in columns:\n",
        "  p1,p2 = get_category_difference_t(column, onlychild_data, sibling_data)\n",
        "  if p2<=0.005:\n",
        "    # print(column, p)\n",
        "    count+=1\n",
        "print(count, \"/\",len(columns))\n",
        "print(\"Proportion :\", count/ len(columns))"
      ],
      "metadata": {
        "colab": {
          "base_uri": "https://localhost:8080/"
        },
        "id": "_1vsccbBLvFc",
        "outputId": "d5e4238a-9665-434d-dff1-25dcc296a3c9"
      },
      "execution_count": 162,
      "outputs": [
        {
          "output_type": "stream",
          "name": "stdout",
          "text": [
            "7 / 400\n",
            "Proportion : 0.0175\n"
          ]
        }
      ]
    },
    {
      "cell_type": "markdown",
      "source": [
        "## 7. The Wolf of Wall Street - Viewers\n",
        "Do people who like to watch movies socially enjoy ‘The Wolf of Wall Street (2013)’ more than those who \n",
        "prefer to watch them alone? "
      ],
      "metadata": {
        "id": "B12JMz05PCqq"
      }
    },
    {
      "cell_type": "code",
      "source": [
        "socially_column = \"Movies are best enjoyed alone (1: Yes; 0: No; -1: Did not respond)\"\n",
        "social_data =  df[df[socially_column]==0].iloc[:,:400]\n",
        "alone_data =  df[df[socially_column]==1].iloc[:,:400]\n",
        "U,up = get_category_difference_g(\"The Wolf of Wall Street (2013)\", social_data, alone_data )\n",
        "print(\"Mann Whitney U Test U value =\", U)\n",
        "print(\"Mann Whitney U Test P value =\", up)"
      ],
      "metadata": {
        "colab": {
          "base_uri": "https://localhost:8080/"
        },
        "id": "4eqvZI1gPCa1",
        "outputId": "4c602a0a-5684-4873-bded-3c2a79c40691"
      },
      "execution_count": 159,
      "outputs": [
        {
          "output_type": "stream",
          "name": "stdout",
          "text": [
            "Mann Whitney U Test U value = 49303.5\n",
            "Mann Whitney U Test P value = 0.9436657996253056\n"
          ]
        }
      ]
    },
    {
      "cell_type": "markdown",
      "source": [
        "## 8. Proportion of Movies - Social Watching Effect \n",
        "What proportion of movies exhibit such a “social watching” effect?"
      ],
      "metadata": {
        "id": "eMCFOXbWPUg_"
      }
    },
    {
      "cell_type": "code",
      "source": [
        "movies = df.iloc[:,:400]\n",
        "columns = movies.columns\n",
        "count = 0\n",
        "for i in columns:\n",
        "  p1,p2 = get_category_difference_t(i, social_data, alone_data)\n",
        "  if p2<=0.005:\n",
        "    # print(column, p)\n",
        "    count+=1\n",
        "print(count, \"/\",len(columns))\n",
        "print(\"Proportion :\", count/ len(columns))"
      ],
      "metadata": {
        "colab": {
          "base_uri": "https://localhost:8080/"
        },
        "id": "Ay0X6EeTPadB",
        "outputId": "07836435-b6e2-40cb-fb9b-df811dcb15fc"
      },
      "execution_count": 164,
      "outputs": [
        {
          "output_type": "stream",
          "name": "stdout",
          "text": [
            "10 / 400\n",
            "Proportion : 0.025\n"
          ]
        }
      ]
    },
    {
      "cell_type": "markdown",
      "source": [
        "## 9. Home Alone and Finding Nemo\n",
        "Is the ratings distribution of ‘Home Alone (1990)’ different than that of ‘Finding Nemo (2003)’?  "
      ],
      "metadata": {
        "id": "r3a9htJKQUMb"
      }
    },
    {
      "cell_type": "code",
      "source": [
        "home_alone = df[\"Home Alone (1990)\"]\n",
        "finding_nemo = df[\"Finding Nemo (2003)\"]\n",
        "f,p = get_difference(home_alone, finding_nemo)\n",
        "print(\"KS Test K Value=\",f,\"P value =\", p)"
      ],
      "metadata": {
        "colab": {
          "base_uri": "https://localhost:8080/"
        },
        "id": "9DzqH_zqQNUC",
        "outputId": "6014b5da-fa6f-44e1-abc1-baa020ecd996"
      },
      "execution_count": 169,
      "outputs": [
        {
          "output_type": "stream",
          "name": "stdout",
          "text": [
            "857\n",
            "1014\n",
            "KS Test K Value= 0.15269080020897632 P value = 6.379381467525036e-10\n"
          ]
        }
      ]
    },
    {
      "cell_type": "markdown",
      "source": [
        "## 10. Consistency of Franchises \n",
        "There are ratings on movies from several franchises ([‘Star Wars’, ‘Harry Potter’, ‘The Matrix’, ‘Indiana \n",
        "Jones’, ‘Jurassic Park’, ‘Pirates of the Caribbean’, ‘Toy Story’, ‘Batman’]) in this dataset. How many of these \n",
        "are of inconsistent quality, as experienced by viewers? [Hint: You can use the keywords in quotation marks \n",
        "featured in this question to identify the movies that are part of each franchise]  "
      ],
      "metadata": {
        "id": "_Dr3LgT1RnF0"
      }
    },
    {
      "cell_type": "code",
      "source": [
        "#To Print the list of all franchise movies in the given movieReplication.csv\n",
        "'''df = pd.read_csv(\"movieReplicationSet.csv\")\n",
        "Movies_list = [\"Star Wars\", \"Harry Potter\", \"The Matrix\", \"Indiana Jones\", \"Jurassic Park\", \"Pirates of the Caribbean\", \"Toy Story\", \"Batman\"]\n",
        "franch = {}\n",
        "for i in Movies_list:\n",
        "  franch[i] = []\n",
        "  print(i)\n",
        "  for c in df.columns:\n",
        "    if i in c:\n",
        "      franch[i].append(c)\n",
        "      print(c)\n",
        "'''"
      ],
      "metadata": {
        "colab": {
          "base_uri": "https://localhost:8080/",
          "height": 53
        },
        "id": "thwtwBAwQNI5",
        "outputId": "d221c7dc-a884-4a8d-8794-46561ae60e6f"
      },
      "execution_count": 118,
      "outputs": [
        {
          "output_type": "execute_result",
          "data": {
            "text/plain": [
              "'df = pd.read_csv(\"movieReplicationSet.csv\")\\nMovies_list = [\"Star Wars\", \"Harry Potter\", \"The Matrix\", \"Indiana Jones\", \"Jurassic Park\", \"Pirates of the Caribbean\", \"Toy Story\", \"Batman\"]\\nfranch = {}\\nfor i in Movies_list:\\n  franch[i] = []\\n  print(i)\\n  for c in df.columns:\\n    if i in c:\\n      franch[i].append(c)\\n      print(c)\\n'"
            ],
            "application/vnd.google.colaboratory.intrinsic+json": {
              "type": "string"
            }
          },
          "metadata": {},
          "execution_count": 118
        }
      ]
    },
    {
      "cell_type": "markdown",
      "source": [
        "#STAR WARS"
      ],
      "metadata": {
        "id": "j_jY8mODd0JR"
      }
    },
    {
      "cell_type": "code",
      "source": [
        "from scipy.stats.mstats_basic import kruskal\n",
        "df=pd.read_csv('movieReplicationSet.csv',skipinitialspace=True)\n",
        "listOfMovies=df.columns.to_list()[:400]\n",
        "keyWord=\"Star Wars\"\n",
        "sequels=[]\n",
        "for i in range(400):\n",
        "    if keyWord in listOfMovies[i]:\n",
        "        sequels.append(listOfMovies[i])\n",
        "for i in sequels:\n",
        "  print(i)\n",
        "S4=pd.to_numeric(df[sequels[0]],errors='coerce').values\n",
        "S4 = S4[np.isfinite(S4)]\n",
        "S2=pd.to_numeric(df[sequels[1]],errors='coerce').values\n",
        "S2 = S2[np.isfinite(S2)]\n",
        "S5=pd.to_numeric(df[sequels[2]],errors='coerce').values\n",
        "S5 = S5[np.isfinite(S5)]\n",
        "S1=pd.to_numeric(df[sequels[3]],errors='coerce').values\n",
        "S1 = S1[np.isfinite(S1)]\n",
        "S6=pd.to_numeric(df[sequels[4]],errors='coerce').values\n",
        "S6 = S6[np.isfinite(S6)]\n",
        "S7=pd.to_numeric(df[sequels[5]],errors='coerce').values\n",
        "S7 = S7[np.isfinite(S7)]\n",
        "\n",
        "combinedData = np.transpose(np.array([S1,S2,S4,S5,S6,S7], dtype=object))\n",
        "print(\"\\nMann Whitney Test to check between sequels\")\n",
        "for i in range(len(sequels)-1):\n",
        "    u,p = mannwhitneyu(combinedData[i],combinedData[i+1])\n",
        "    \n",
        "    print(\"U-value:\",u,\"P-value:\",p)\n",
        "    \n",
        "print(\"\\nSignificant difference seen between Star Wars: Episode II - Attack of the Clones (2002) and Star Wars: Episode IV - A New Hope (1977)\")\n",
        "\n",
        "f,p1 = kruskal(S1,S2,S4,S5,S6,S7)\n",
        "print(\"\\nKruskal-Wallis H-test test to test if population median of all of the groups are equal\")\n",
        "print(\"F-value:\",f,\"P-value:\",p1)"
      ],
      "metadata": {
        "id": "hFLscBcsPfcW",
        "colab": {
          "base_uri": "https://localhost:8080/"
        },
        "outputId": "9345f584-10ee-44cd-f02e-6aac5ad5096f"
      },
      "execution_count": 134,
      "outputs": [
        {
          "output_type": "stream",
          "name": "stdout",
          "text": [
            "Star Wars: Episode IV - A New Hope (1977)\n",
            "Star Wars: Episode II - Attack of the Clones (2002)\n",
            "Star Wars: Episode V - The Empire Strikes Back (1980)\n",
            "Star Wars: Episode 1 - The Phantom Menace (1999)\n",
            "Star Wars: Episode VII - The Force Awakens (2015)\n",
            "Star Wars: Episode VI - The Return of the Jedi (1983)\n",
            "\n",
            "Mann Whitney Test to check between sequels\n",
            "U-value: 124054.5 P-value: 0.4503093559063731\n",
            "U-value: 101449.0 P-value: 2.7865432291796803e-18\n",
            "U-value: 125332.0 P-value: 0.08189846600030656\n",
            "U-value: 116173.0 P-value: 0.5732544284765428\n",
            "U-value: 116247.0 P-value: 0.11405028669275127\n",
            "\n",
            "Significant difference seen between Star Wars: Episode II - Attack of the Clones (2002) and Star Wars: Episode IV - A New Hope (1977)\n",
            "\n",
            "Kruskal-Wallis H-test test to test if population median of all of the groups are equal\n",
            "F-value: 230.5841753686405 P-value: 8.01647736660335e-48\n"
          ]
        }
      ]
    },
    {
      "cell_type": "markdown",
      "source": [
        "#Harry Potter"
      ],
      "metadata": {
        "id": "VJroOLlBd9Mi"
      }
    },
    {
      "cell_type": "code",
      "source": [
        "from scipy.stats.mstats_basic import kruskal\n",
        "df=pd.read_csv('movieReplicationSet.csv',skipinitialspace=True)\n",
        "listOfMovies=df.columns.to_list()[:400]\n",
        "keyWord=\"Harry Potter\"\n",
        "sequels=[]\n",
        "for i in range(400):\n",
        "    if keyWord in listOfMovies[i]:\n",
        "        sequels.append(listOfMovies[i])\n",
        "for i in sequels:\n",
        "  print(i)\n",
        "S4=pd.to_numeric(df[sequels[0]],errors='coerce').values\n",
        "S4 = S4[np.isfinite(S4)]\n",
        "S2=pd.to_numeric(df[sequels[1]],errors='coerce').values\n",
        "S2 = S2[np.isfinite(S2)]\n",
        "S5=pd.to_numeric(df[sequels[2]],errors='coerce').values\n",
        "S5 = S5[np.isfinite(S5)]\n",
        "S1=pd.to_numeric(df[sequels[3]],errors='coerce').values\n",
        "S1 = S1[np.isfinite(S1)]\n",
        "\n",
        "\n",
        "combinedData = np.transpose(np.array([S4,S1,S5,S2], dtype=object))\n",
        "print(\"\\nMann Whitney Test to check between sequels\")\n",
        "for i in range(len(sequels)-1):\n",
        "    u,p = mannwhitneyu(combinedData[i],combinedData[i+1])\n",
        "    \n",
        "    print(\"U-value:\",u,\"P-value:\",p)\n",
        "    \n",
        "print(\"\\nNo significance seen\")\n",
        "\n",
        "f,p1 = kruskal(S1,S2,S4,S5)\n",
        "print(\"\\nKruskal-Wallis H-test test to test if population median of all of the groups are equal\")\n",
        "print(\"F-value:\",f,\"P-value:\",p1)"
      ],
      "metadata": {
        "colab": {
          "base_uri": "https://localhost:8080/"
        },
        "id": "ProKsIbpdxyc",
        "outputId": "88d5f3dd-ab20-47d4-da66-38902b16de95"
      },
      "execution_count": 126,
      "outputs": [
        {
          "output_type": "stream",
          "name": "stdout",
          "text": [
            "Harry Potter and the Sorcerer's Stone (2001)\n",
            "Harry Potter and the Deathly Hallows: Part 2 (2011)\n",
            "Harry Potter and the Goblet of Fire (2005)\n",
            "Harry Potter and the Chamber of Secrets (2002)\n",
            "\n",
            "Mann Whitney Test to check between sequels\n",
            "U-value: 384178.0 P-value: 0.09816683002933\n",
            "U-value: 342001.0 P-value: 0.8040524609201452\n",
            "U-value: 331566.0 P-value: 0.4973063104455706\n",
            "\n",
            "No significance seen\n",
            "\n",
            "Kruskal-Wallis H-test test to test if population median of all of the groups are equal\n",
            "F-value: 3.3312307328888706 P-value: 0.34331950837316666\n"
          ]
        }
      ]
    },
    {
      "cell_type": "markdown",
      "source": [
        "#The Matrix"
      ],
      "metadata": {
        "id": "VeBSTaSCecmf"
      }
    },
    {
      "cell_type": "code",
      "source": [
        "from scipy.stats.mstats_basic import kruskal\n",
        "df=pd.read_csv('movieReplicationSet.csv',skipinitialspace=True)\n",
        "listOfMovies=df.columns.to_list()[:400]\n",
        "keyWord=\"The Matrix\"\n",
        "sequels=[]\n",
        "for i in range(400):\n",
        "    if keyWord in listOfMovies[i]:\n",
        "        sequels.append(listOfMovies[i])\n",
        "for i in sequels:\n",
        "  print(i)\n",
        "S4=pd.to_numeric(df[sequels[0]],errors='coerce').values\n",
        "S4 = S4[np.isfinite(S4)]\n",
        "S2=pd.to_numeric(df[sequels[1]],errors='coerce').values\n",
        "S2 = S2[np.isfinite(S2)]\n",
        "S5=pd.to_numeric(df[sequels[2]],errors='coerce').values\n",
        "S5 = S5[np.isfinite(S5)]\n",
        "\n",
        "\n",
        "combinedData = np.transpose(np.array([S5,S2,S4], dtype=object))\n",
        "print(\"\\nMann Whitney Test to check between sequels\")\n",
        "for i in range(len(sequels)-1):\n",
        "    u,p = mannwhitneyu(combinedData[i],combinedData[i+1])\n",
        "    \n",
        "    print(\"U-value:\",u,\"P-value:\",p)\n",
        "    \n",
        "print(\"\\nSignificant difference seen between The Matrix (1999) and The Matrix Reloaded (2003)\")\n",
        "\n",
        "f,p1 = kruskal(S2,S4,S5)\n",
        "print(\"\\nKruskal-Wallis H-test test to test if population median of all of the groups are equal\")\n",
        "print(\"F-value:\",f,\"P-value:\",p1)"
      ],
      "metadata": {
        "colab": {
          "base_uri": "https://localhost:8080/"
        },
        "id": "pMp62Z-LehyJ",
        "outputId": "5951fe59-0d89-4559-d2f4-10b06259acf9"
      },
      "execution_count": 133,
      "outputs": [
        {
          "output_type": "stream",
          "name": "stdout",
          "text": [
            "The Matrix Revolutions (2003)\n",
            "The Matrix Reloaded (2003)\n",
            "The Matrix (1999)\n",
            "\n",
            "Mann Whitney Test to check between sequels\n",
            "U-value: 100837.5 P-value: 2.1376654433729527e-07\n",
            "U-value: 65932.5 P-value: 0.24981112383243775\n",
            "\n",
            "Significant difference seen between The Matrix (1999) and The Matrix Reloaded (2003)\n",
            "\n",
            "Kruskal-Wallis H-test test to test if population median of all of the groups are equal\n",
            "F-value: 48.378866521305774 P-value: 3.1236517880781424e-11\n"
          ]
        }
      ]
    },
    {
      "cell_type": "markdown",
      "source": [
        "#Indiana Jones"
      ],
      "metadata": {
        "id": "qrBx3zASfKmn"
      }
    },
    {
      "cell_type": "code",
      "source": [
        "from scipy.stats.mstats_basic import kruskal\n",
        "df=pd.read_csv('movieReplicationSet.csv',skipinitialspace=True)\n",
        "listOfMovies=df.columns.to_list()[:400]\n",
        "keyWord=\"Indiana Jones\"\n",
        "sequels=[]\n",
        "for i in range(400):\n",
        "    if keyWord in listOfMovies[i]:\n",
        "        sequels.append(listOfMovies[i])\n",
        "for i in sequels:\n",
        "  print(i)\n",
        "S4=pd.to_numeric(df[sequels[0]],errors='coerce').values\n",
        "S4 = S4[np.isfinite(S4)]\n",
        "S2=pd.to_numeric(df[sequels[1]],errors='coerce').values\n",
        "S2 = S2[np.isfinite(S2)]\n",
        "S5=pd.to_numeric(df[sequels[2]],errors='coerce').values\n",
        "S5 = S5[np.isfinite(S5)]\n",
        "S1=pd.to_numeric(df[sequels[3]],errors='coerce').values\n",
        "S1 = S1[np.isfinite(S1)]\n",
        "\n",
        "\n",
        "combinedData = np.transpose(np.array([S5,S2,S4,S1], dtype=object))\n",
        "print(\"\\nMann Whitney Test to check between sequels\")\n",
        "for i in range(len(sequels)-1):\n",
        "    u,p = mannwhitneyu(combinedData[i],combinedData[i+1])\n",
        "    \n",
        "    print(\"U-value:\",u,\"P-value:\",p)\n",
        "    \n",
        "print(\"\\nSignificant difference seen between Indiana Jones and the Raiders of the Lost Ark (1981) and Indiana Jones and the Temple of Doom (1984)\")\n",
        "print(\"\\nSignificant difference seen between Indiana Jones and the Last Crusade (1989) and Indiana Jones and the Kingdom of the Crystal Skull (2008)\")\n",
        "\n",
        "f,p1 = kruskal(S2,S4,S5)\n",
        "print(\"\\nKruskal-Wallis H-test test to test if population median of all of the groups are equal\")\n",
        "print(\"F-value:\",f,\"P-value:\",p1)"
      ],
      "metadata": {
        "colab": {
          "base_uri": "https://localhost:8080/"
        },
        "id": "ER-7sDpNfOFu",
        "outputId": "7fb54300-dd37-43cc-eabf-8e7eda8f3051"
      },
      "execution_count": 137,
      "outputs": [
        {
          "output_type": "stream",
          "name": "stdout",
          "text": [
            "Indiana Jones and the Last Crusade (1989)\n",
            "Indiana Jones and the Temple of Doom (1984)\n",
            "Indiana Jones and the Raiders of the Lost Ark (1981)\n",
            "Indiana Jones and the Kingdom of the Crystal Skull (2008)\n",
            "\n",
            "Mann Whitney Test to check between sequels\n",
            "U-value: 97240.0 P-value: 1.8017248346687264e-05\n",
            "U-value: 107144.0 P-value: 0.3070842227239434\n",
            "U-value: 120933.0 P-value: 0.00017791395232999937\n",
            "\n",
            "Significant difference seen between Indiana Jones and the Raiders of the Lost Ark (1981) and Indiana Jones and the Temple of Doom (1984)\n",
            "\n",
            "Significant difference seen between Indiana Jones and the Last Crusade (1989) and Indiana Jones and the Kingdom of the Crystal Skull (2008)\n",
            "\n",
            "Kruskal-Wallis H-test test to test if population median of all of the groups are equal\n",
            "F-value: 19.92433047366296 P-value: 4.715053336633116e-05\n"
          ]
        }
      ]
    },
    {
      "cell_type": "markdown",
      "source": [
        "#Jurassic Park"
      ],
      "metadata": {
        "id": "suCEK3Szfqr9"
      }
    },
    {
      "cell_type": "code",
      "source": [
        "from scipy.stats.mstats_basic import kruskal\n",
        "df=pd.read_csv('movieReplicationSet.csv',skipinitialspace=True)\n",
        "listOfMovies=df.columns.to_list()[:400]\n",
        "keyWord=\"Jurassic Park\"\n",
        "sequels=[]\n",
        "for i in range(400):\n",
        "    if keyWord in listOfMovies[i]:\n",
        "        sequels.append(listOfMovies[i])\n",
        "for i in sequels:\n",
        "  print(i)\n",
        "S4=pd.to_numeric(df[sequels[0]],errors='coerce').values\n",
        "S4 = S4[np.isfinite(S4)]\n",
        "S2=pd.to_numeric(df[sequels[1]],errors='coerce').values\n",
        "S2 = S2[np.isfinite(S2)]\n",
        "S5=pd.to_numeric(df[sequels[2]],errors='coerce').values\n",
        "S5 = S5[np.isfinite(S5)]\n",
        "\n",
        "combinedData = np.transpose(np.array([S5,S4,S2], dtype=object))\n",
        "print(\"\\nMann Whitney Test to check between sequels\")\n",
        "for i in range(len(sequels)-1):\n",
        "    u,p = mannwhitneyu(combinedData[i],combinedData[i+1])\n",
        "    \n",
        "    print(\"U-value:\",u,\"P-value:\",p)\n",
        "    \n",
        "print(\"\\nSignificant difference seen between The Lost World: Jurassic Park (1997) and Jurassic Park (1993)\")\n",
        "print(\"\\nSignificant difference seen between Jurassic Park (1993) and Jurassic Park III (2001)\")\n",
        "\n",
        "f,p1 = kruskal(S2,S4,S5)\n",
        "print(\"\\nKruskal-Wallis H-test test to test if population median of all of the groups are equal\")\n",
        "print(\"F-value:\",f,\"P-value:\",p1)"
      ],
      "metadata": {
        "colab": {
          "base_uri": "https://localhost:8080/"
        },
        "id": "PjZjxYjmfpx9",
        "outputId": "0e222955-0c9f-447c-95b4-60ce6fa1d9fd"
      },
      "execution_count": 139,
      "outputs": [
        {
          "output_type": "stream",
          "name": "stdout",
          "text": [
            "The Lost World: Jurassic Park (1997)\n",
            "Jurassic Park III (2001)\n",
            "Jurassic Park (1993)\n",
            "\n",
            "Mann Whitney Test to check between sequels\n",
            "U-value: 188684.0 P-value: 0.0006738642151062385\n",
            "U-value: 169371.5 P-value: 0.00027537558821442277\n",
            "\n",
            "Significant difference seen between The Lost World: Jurassic Park (1997) and Jurassic Park (1993)\n",
            "\n",
            "Significant difference seen between Jurassic Park (1993) and Jurassic Park III (2001)\n",
            "\n",
            "Kruskal-Wallis H-test test to test if population median of all of the groups are equal\n",
            "F-value: 46.59088064385298 P-value: 7.636930084362221e-11\n"
          ]
        }
      ]
    },
    {
      "cell_type": "markdown",
      "source": [
        "#Pirates of the Caribbean"
      ],
      "metadata": {
        "id": "AUqGQfDOgIdF"
      }
    },
    {
      "cell_type": "code",
      "source": [
        "from scipy.stats.mstats_basic import kruskal\n",
        "df=pd.read_csv('movieReplicationSet.csv',skipinitialspace=True)\n",
        "listOfMovies=df.columns.to_list()[:400]\n",
        "keyWord=\"Pirates of the Caribbean\"\n",
        "sequels=[]\n",
        "for i in range(400):\n",
        "    if keyWord in listOfMovies[i]:\n",
        "        sequels.append(listOfMovies[i])\n",
        "for i in sequels:\n",
        "  print(i)\n",
        "S4=pd.to_numeric(df[sequels[0]],errors='coerce').values\n",
        "S4 = S4[np.isfinite(S4)]\n",
        "S2=pd.to_numeric(df[sequels[1]],errors='coerce').values\n",
        "S2 = S2[np.isfinite(S2)]\n",
        "S5=pd.to_numeric(df[sequels[2]],errors='coerce').values\n",
        "S5 = S5[np.isfinite(S5)]\n",
        "\n",
        "combinedData = np.transpose(np.array([S5,S4,S2], dtype=object))\n",
        "print(\"\\nMann Whitney Test to check between sequels\")\n",
        "for i in range(len(sequels)-1):\n",
        "    u,p = mannwhitneyu(combinedData[i],combinedData[i+1])\n",
        "    \n",
        "    print(\"U-value:\",u,\"P-value:\",p)\n",
        "    \n",
        "print(\"\\nSignificant difference seen between Pirates of the Caribbean: Dead Man's Chest (2006) and Pirates of the Caribbean: The Curse of the Black Pearl (2003)\")\n",
        "\n",
        "f,p1 = kruskal(S2,S4,S5)\n",
        "print(\"\\nKruskal-Wallis H-test test to test if population median of all of the groups are equal\")\n",
        "print(\"F-value:\",f,\"P-value:\",p1)"
      ],
      "metadata": {
        "colab": {
          "base_uri": "https://localhost:8080/"
        },
        "id": "QF5l0UOpgNyo",
        "outputId": "e30eaaf1-7632-4358-edce-5f0cea618599"
      },
      "execution_count": 141,
      "outputs": [
        {
          "output_type": "stream",
          "name": "stdout",
          "text": [
            "Pirates of the Caribbean: Dead Man's Chest (2006)\n",
            "Pirates of the Caribbean: At World's End (2007)\n",
            "Pirates of the Caribbean: The Curse of the Black Pearl (2003)\n",
            "\n",
            "Mann Whitney Test to check between sequels\n",
            "U-value: 308667.0 P-value: 8.817372076227087e-06\n",
            "U-value: 258329.5 P-value: 0.25147758276137844\n",
            "\n",
            "Significant difference seen between Pirates of the Caribbean: Dead Man's Chest (2006) and Pirates of the Caribbean: The Curse of the Black Pearl (2003)\n",
            "\n",
            "Kruskal-Wallis H-test test to test if population median of all of the groups are equal\n",
            "F-value: 20.64399756002606 P-value: 3.2901287079094474e-05\n"
          ]
        }
      ]
    },
    {
      "cell_type": "markdown",
      "source": [
        "#Toy Story"
      ],
      "metadata": {
        "id": "bXLOrLbNgp-C"
      }
    },
    {
      "cell_type": "code",
      "source": [
        "from scipy.stats.mstats_basic import kruskal\n",
        "df=pd.read_csv('movieReplicationSet.csv',skipinitialspace=True)\n",
        "listOfMovies=df.columns.to_list()[:400]\n",
        "keyWord=\"Toy Story\"\n",
        "sequels=[]\n",
        "for i in range(400):\n",
        "    if keyWord in listOfMovies[i]:\n",
        "        sequels.append(listOfMovies[i])\n",
        "for i in sequels:\n",
        "  print(i)\n",
        "S4=pd.to_numeric(df[sequels[0]],errors='coerce').values\n",
        "S4 = S4[np.isfinite(S4)]\n",
        "S2=pd.to_numeric(df[sequels[1]],errors='coerce').values\n",
        "S2 = S2[np.isfinite(S2)]\n",
        "S5=pd.to_numeric(df[sequels[2]],errors='coerce').values\n",
        "S5 = S5[np.isfinite(S5)]\n",
        "\n",
        "combinedData = np.transpose(np.array([S5,S4,S2], dtype=object))\n",
        "print(\"\\nMann Whitney Test to check between sequels\")\n",
        "for i in range(len(sequels)-1):\n",
        "    u,p = mannwhitneyu(combinedData[i],combinedData[i+1])\n",
        "    \n",
        "    print(\"U-value:\",u,\"P-value:\",p)\n",
        "    \n",
        "print(\"\\nSignificant difference seen between Toy Story 3 (2010) and Toy Story 2 (1999)\")\n",
        "print(\"\\nSignificant difference seen between Toy Story (1995) and Toy Story 2 (1999)\")\n",
        "\n",
        "f,p1 = kruskal(S2,S4,S5)\n",
        "print(\"\\nKruskal-Wallis H-test test to test if population median of all of the groups are equal\")\n",
        "print(\"F-value:\",f,\"P-value:\",p1)"
      ],
      "metadata": {
        "colab": {
          "base_uri": "https://localhost:8080/"
        },
        "id": "Z0FiFDSigqRN",
        "outputId": "729173ea-5505-4681-ff81-4fa3649de023"
      },
      "execution_count": 143,
      "outputs": [
        {
          "output_type": "stream",
          "name": "stdout",
          "text": [
            "Toy Story 2 (1999)\n",
            "Toy Story 3 (2010)\n",
            "Toy Story (1995)\n",
            "\n",
            "Mann Whitney Test to check between sequels\n",
            "U-value: 472908.0 P-value: 6.329730946125958e-06\n",
            "U-value: 356610.0 P-value: 8.408513827408602e-05\n",
            "\n",
            "Significant difference seen between Toy Story 3 (2010) and Toy Story 2 (1999)\n",
            "\n",
            "Significant difference seen between Toy Story (1995) and Toy Story 2 (1999)\n",
            "\n",
            "Kruskal-Wallis H-test test to test if population median of all of the groups are equal\n",
            "F-value: 24.38599493626327 P-value: 5.065805156537524e-06\n"
          ]
        }
      ]
    },
    {
      "cell_type": "markdown",
      "source": [
        "#Batman"
      ],
      "metadata": {
        "id": "mqnl3bOyg09Y"
      }
    },
    {
      "cell_type": "code",
      "source": [
        "from scipy.stats.mstats_basic import kruskal\n",
        "df=pd.read_csv('movieReplicationSet.csv',skipinitialspace=True)\n",
        "listOfMovies=df.columns.to_list()[:400]\n",
        "keyWord=\"Batman\"\n",
        "sequels=[]\n",
        "for i in range(400):\n",
        "    if keyWord in listOfMovies[i]:\n",
        "        sequels.append(listOfMovies[i])\n",
        "for i in sequels:\n",
        "  print(i)\n",
        "S4=pd.to_numeric(df[sequels[0]],errors='coerce').values\n",
        "S4 = S4[np.isfinite(S4)]\n",
        "S2=pd.to_numeric(df[sequels[1]],errors='coerce').values\n",
        "S2 = S2[np.isfinite(S2)]\n",
        "S5=pd.to_numeric(df[sequels[2]],errors='coerce').values\n",
        "S5 = S5[np.isfinite(S5)]\n",
        "\n",
        "combinedData = np.transpose(np.array([S4,S2,S5], dtype=object))\n",
        "print(\"\\nMann Whitney Test to check between sequels\")\n",
        "for i in range(len(sequels)-1):\n",
        "    u,p = mannwhitneyu(combinedData[i],combinedData[i+1])\n",
        "    \n",
        "    print(\"U-value:\",u,\"P-value:\",p)\n",
        "    \n",
        "print(\"\\nSignificant difference seen between Batman & Robin (1997) and Batman (1989)\")\n",
        "print(\"\\nSignificant difference seen between Batman (1989) and Batman: The Dark Knight (2008)\")\n",
        "\n",
        "f,p1 = kruskal(S2,S4,S5)\n",
        "print(\"\\nKruskal-Wallis H-test test to test if population median of all of the groups are equal\")\n",
        "print(\"F-value:\",f,\"P-value:\",p1)"
      ],
      "metadata": {
        "colab": {
          "base_uri": "https://localhost:8080/"
        },
        "id": "NxRmLmqKg1gU",
        "outputId": "063b98b4-72f1-4120-cdd8-6a92cb01d3e1"
      },
      "execution_count": 145,
      "outputs": [
        {
          "output_type": "stream",
          "name": "stdout",
          "text": [
            "Batman & Robin (1997)\n",
            "Batman (1989)\n",
            "Batman: The Dark Knight (2008)\n",
            "\n",
            "Mann Whitney Test to check between sequels\n",
            "U-value: 48397.5 P-value: 1.5631433682224575e-09\n",
            "U-value: 99593.0 P-value: 2.5183727470948456e-15\n",
            "\n",
            "Significant difference seen between Batman & Robin (1997) and Batman (1989)\n",
            "\n",
            "Significant difference seen between Batman (1989) and Batman: The Dark Knight (2008)\n",
            "\n",
            "Kruskal-Wallis H-test test to test if population median of all of the groups are equal\n",
            "F-value: 190.53496872634642 P-value: 4.2252969509030006e-42\n"
          ]
        }
      ]
    },
    {
      "cell_type": "markdown",
      "source": [
        "#EXTRA CREDIT"
      ],
      "metadata": {
        "id": "Dsyf_MxiXD4J"
      }
    },
    {
      "cell_type": "markdown",
      "source": [
        "Do people who have trouble following a movie rate Chicago (2002) differently?\n",
        "Ho= People don't rate Chicago (2002) based on whether they followed the story of the movie"
      ],
      "metadata": {
        "id": "0jRakz6zXJi0"
      }
    },
    {
      "cell_type": "code",
      "source": [
        "df=pd.read_csv('movieReplicationSet.csv',skipinitialspace=True)\n",
        "trouble_columns  = \"I have trouble following the story of a movie\"\n",
        "trouble_data =  df[df[trouble_columns]<=df[trouble_columns].median()].iloc[:,:400]\n",
        "not_troubled_data =  df[df[trouble_columns]>df[trouble_columns].median()].iloc[:,:400]\n",
        "_,p = get_category_difference_g(\"Chicago (2002)\", trouble_data, not_troubled_data)\n",
        "print(\"P value =\",p)"
      ],
      "metadata": {
        "colab": {
          "base_uri": "https://localhost:8080/"
        },
        "id": "WvMmL4lUaEhp",
        "outputId": "86702b3e-602f-4f82-96fc-6ba5d3cd4a66"
      },
      "execution_count": 183,
      "outputs": [
        {
          "output_type": "stream",
          "name": "stdout",
          "text": [
            "P value = 0.0031912618750724302\n"
          ]
        }
      ]
    },
    {
      "cell_type": "markdown",
      "source": [
        "Proportion of Movies rated by viewers who exhibit the personality that they have trouble following the story of a movie."
      ],
      "metadata": {
        "id": "DoGW-MEKSavc"
      }
    },
    {
      "cell_type": "code",
      "source": [
        "mov_columns = movies.columns\n",
        "count = 0\n",
        "for i in mov_columns:\n",
        "  _,p = get_category_difference_g(i, trouble_data, not_troubled_data)\n",
        "  if p<=0.005:\n",
        "    # print(column, p)\n",
        "    print(i)\n",
        "    count+=1\n",
        "print(count, \"/\",len(columns))\n",
        "print(\"Proportion :\", count/len(columns))"
      ],
      "metadata": {
        "colab": {
          "base_uri": "https://localhost:8080/"
        },
        "id": "wXbKAP6bAsnW",
        "outputId": "37feb4d6-d9d0-4445-8e8d-97f1ac600b36"
      },
      "execution_count": 182,
      "outputs": [
        {
          "output_type": "stream",
          "name": "stdout",
          "text": [
            "Indiana Jones and the Last Crusade (1989)\n",
            "Psycho (1960)\n",
            "Schindler's List (1993)\n",
            "The Godfather: Part II (1974)\n",
            "Indiana Jones and the Raiders of the Lost Ark (1981)\n",
            "Fight Club (1999)\n",
            "12 Monkeys (1995)\n",
            "Full Metal Jacket (1987)\n",
            "Leon (1994)\n",
            "Girl Interrupted (1999)\n",
            "Life is Beautiful (1997)\n",
            "Saving Private Ryan (1998)\n",
            "The Lord of the Rings: The Two Towers (2002)\n",
            "Forrest Gump (1994)\n",
            "Goodfellas (1990)\n",
            "The Prestige (2006)\n",
            "Batman: The Dark Knight (2008)\n",
            "Donnie Darko (2001)\n",
            "Requiem for a Dream (2000)\n",
            "Chicago (2002)\n",
            "A Clockwork Orange (1971)\n",
            "Reservoir Dogs (1992)\n",
            "Memento (2000)\n",
            "American Psycho (2000)\n",
            "Who Framed Roger Rabbit (1988)\n",
            "American History X (1998)\n",
            "Pirates of the Caribbean: The Curse of the Black Pearl (2003)\n",
            "Men in Black (1997)\n",
            "Eternal Sunshine of the Spotless Mind (2004)\n",
            "Ocean's Eleven (2001)\n",
            "One Flew Over the Cuckoo's Nest (1975)\n",
            "31 / 400\n",
            "Proportion : 0.0775\n"
          ]
        }
      ]
    }
  ]
}