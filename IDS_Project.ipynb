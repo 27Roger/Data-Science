{
  "nbformat": 4,
  "nbformat_minor": 0,
  "metadata": {
    "colab": {
      "provenance": [],
      "collapsed_sections": [],
      "include_colab_link": true
    },
    "kernelspec": {
      "name": "python3",
      "display_name": "Python 3"
    },
    "language_info": {
      "name": "python"
    },
    "accelerator": "GPU",
    "gpuClass": "standard"
  },
  "cells": [
    {
      "cell_type": "markdown",
      "metadata": {
        "id": "view-in-github",
        "colab_type": "text"
      },
      "source": [
        "<a href=\"https://colab.research.google.com/github/27Roger/Data-Science/blob/main/IDS_Project.ipynb\" target=\"_parent\"><img src=\"https://colab.research.google.com/assets/colab-badge.svg\" alt=\"Open In Colab\"/></a>"
      ]
    },
    {
      "cell_type": "code",
      "execution_count": null,
      "metadata": {
        "id": "pT0MSqNf6zIM"
      },
      "outputs": [],
      "source": [
        "from scipy.stats import mannwhitneyu, ttest_ind\n",
        "import matplotlib.pyplot as plt\n",
        "import pandas as pd\n",
        "import numpy as np\n",
        "%matplotlib inline"
      ]
    },
    {
      "cell_type": "code",
      "source": [
        "df = pd.read_csv(\"movieReplicationSet.csv\")\n",
        "df.head()\n",
        "# df.shape"
      ],
      "metadata": {
        "colab": {
          "base_uri": "https://localhost:8080/",
          "height": 560
        },
        "id": "0-EgGbv77wnb",
        "outputId": "4c1f3bd3-0ae3-4486-a7d1-1a20999641a1"
      },
      "execution_count": null,
      "outputs": [
        {
          "output_type": "execute_result",
          "data": {
            "text/plain": [
              "   The Life of David Gale (2003)  Wing Commander (1999)  \\\n",
              "0                            NaN                    NaN   \n",
              "1                            NaN                    NaN   \n",
              "2                            NaN                    NaN   \n",
              "3                            NaN                    NaN   \n",
              "4                            NaN                    NaN   \n",
              "\n",
              "   Django Unchained (2012)  Alien (1979)  \\\n",
              "0                      4.0           NaN   \n",
              "1                      1.5           NaN   \n",
              "2                      NaN           NaN   \n",
              "3                      2.0           NaN   \n",
              "4                      3.5           NaN   \n",
              "\n",
              "   Indiana Jones and the Last Crusade (1989)  Snatch (2000)  \\\n",
              "0                                        3.0            NaN   \n",
              "1                                        NaN            NaN   \n",
              "2                                        NaN            NaN   \n",
              "3                                        3.0            NaN   \n",
              "4                                        0.5            NaN   \n",
              "\n",
              "   Rambo: First Blood Part II (1985)  Fargo (1996)  \\\n",
              "0                                NaN           NaN   \n",
              "1                                NaN           NaN   \n",
              "2                                NaN           NaN   \n",
              "3                                NaN           NaN   \n",
              "4                                0.5           1.0   \n",
              "\n",
              "   Let the Right One In (2008)  Black Swan (2010)  ...  \\\n",
              "0                          NaN                NaN  ...   \n",
              "1                          NaN                NaN  ...   \n",
              "2                          NaN                NaN  ...   \n",
              "3                          NaN                4.0  ...   \n",
              "4                          NaN                0.0  ...   \n",
              "\n",
              "   When watching a movie I cheer or shout or talk or curse at the screen  \\\n",
              "0                                                1.0                       \n",
              "1                                                3.0                       \n",
              "2                                                5.0                       \n",
              "3                                                3.0                       \n",
              "4                                                2.0                       \n",
              "\n",
              "   When watching a movie I feel like the things on the screen are happening to me  \\\n",
              "0                                                6.0                                \n",
              "1                                                1.0                                \n",
              "2                                                4.0                                \n",
              "3                                                1.0                                \n",
              "4                                                3.0                                \n",
              "\n",
              "   As a movie unfolds I start to have problems keeping track of events that happened earlier  \\\n",
              "0                                                2.0                                           \n",
              "1                                                1.0                                           \n",
              "2                                                3.0                                           \n",
              "3                                                1.0                                           \n",
              "4                                                2.0                                           \n",
              "\n",
              "   The emotions on the screen \"rub off\" on me - for instance if something sad is happening I get sad or if something frightening is happening I get scared  \\\n",
              "0                                                5.0                                                                                                         \n",
              "1                                                6.0                                                                                                         \n",
              "2                                                5.0                                                                                                         \n",
              "3                                                4.0                                                                                                         \n",
              "4                                                5.0                                                                                                         \n",
              "\n",
              "   When watching a movie I get completely immersed in the alternative reality of the film  \\\n",
              "0                                                5.0                                        \n",
              "1                                                5.0                                        \n",
              "2                                                5.0                                        \n",
              "3                                                5.0                                        \n",
              "4                                                6.0                                        \n",
              "\n",
              "   Movies change my position on social economic or political issues  \\\n",
              "0                                                5.0                  \n",
              "1                                                3.0                  \n",
              "2                                                4.0                  \n",
              "3                                                3.0                  \n",
              "4                                                4.0                  \n",
              "\n",
              "   When watching movies things get so intense that I have to stop watching  \\\n",
              "0                                                1.0                         \n",
              "1                                                2.0                         \n",
              "2                                                4.0                         \n",
              "3                                                1.0                         \n",
              "4                                                4.0                         \n",
              "\n",
              "   Gender identity (1 = female; 2 = male; 3 = self-described)  \\\n",
              "0                                                1.0            \n",
              "1                                                1.0            \n",
              "2                                                1.0            \n",
              "3                                                1.0            \n",
              "4                                                1.0            \n",
              "\n",
              "   Are you an only child? (1: Yes; 0: No; -1: Did not respond)  \\\n",
              "0                                                  0             \n",
              "1                                                  0             \n",
              "2                                                  1             \n",
              "3                                                  0             \n",
              "4                                                  1             \n",
              "\n",
              "   Movies are best enjoyed alone (1: Yes; 0: No; -1: Did not respond)  \n",
              "0                                                  1                   \n",
              "1                                                  0                   \n",
              "2                                                  0                   \n",
              "3                                                  1                   \n",
              "4                                                  1                   \n",
              "\n",
              "[5 rows x 477 columns]"
            ],
            "text/html": [
              "\n",
              "  <div id=\"df-5dd2f714-a094-4245-b6ac-475faa2833b2\">\n",
              "    <div class=\"colab-df-container\">\n",
              "      <div>\n",
              "<style scoped>\n",
              "    .dataframe tbody tr th:only-of-type {\n",
              "        vertical-align: middle;\n",
              "    }\n",
              "\n",
              "    .dataframe tbody tr th {\n",
              "        vertical-align: top;\n",
              "    }\n",
              "\n",
              "    .dataframe thead th {\n",
              "        text-align: right;\n",
              "    }\n",
              "</style>\n",
              "<table border=\"1\" class=\"dataframe\">\n",
              "  <thead>\n",
              "    <tr style=\"text-align: right;\">\n",
              "      <th></th>\n",
              "      <th>The Life of David Gale (2003)</th>\n",
              "      <th>Wing Commander (1999)</th>\n",
              "      <th>Django Unchained (2012)</th>\n",
              "      <th>Alien (1979)</th>\n",
              "      <th>Indiana Jones and the Last Crusade (1989)</th>\n",
              "      <th>Snatch (2000)</th>\n",
              "      <th>Rambo: First Blood Part II (1985)</th>\n",
              "      <th>Fargo (1996)</th>\n",
              "      <th>Let the Right One In (2008)</th>\n",
              "      <th>Black Swan (2010)</th>\n",
              "      <th>...</th>\n",
              "      <th>When watching a movie I cheer or shout or talk or curse at the screen</th>\n",
              "      <th>When watching a movie I feel like the things on the screen are happening to me</th>\n",
              "      <th>As a movie unfolds I start to have problems keeping track of events that happened earlier</th>\n",
              "      <th>The emotions on the screen \"rub off\" on me - for instance if something sad is happening I get sad or if something frightening is happening I get scared</th>\n",
              "      <th>When watching a movie I get completely immersed in the alternative reality of the film</th>\n",
              "      <th>Movies change my position on social economic or political issues</th>\n",
              "      <th>When watching movies things get so intense that I have to stop watching</th>\n",
              "      <th>Gender identity (1 = female; 2 = male; 3 = self-described)</th>\n",
              "      <th>Are you an only child? (1: Yes; 0: No; -1: Did not respond)</th>\n",
              "      <th>Movies are best enjoyed alone (1: Yes; 0: No; -1: Did not respond)</th>\n",
              "    </tr>\n",
              "  </thead>\n",
              "  <tbody>\n",
              "    <tr>\n",
              "      <th>0</th>\n",
              "      <td>NaN</td>\n",
              "      <td>NaN</td>\n",
              "      <td>4.0</td>\n",
              "      <td>NaN</td>\n",
              "      <td>3.0</td>\n",
              "      <td>NaN</td>\n",
              "      <td>NaN</td>\n",
              "      <td>NaN</td>\n",
              "      <td>NaN</td>\n",
              "      <td>NaN</td>\n",
              "      <td>...</td>\n",
              "      <td>1.0</td>\n",
              "      <td>6.0</td>\n",
              "      <td>2.0</td>\n",
              "      <td>5.0</td>\n",
              "      <td>5.0</td>\n",
              "      <td>5.0</td>\n",
              "      <td>1.0</td>\n",
              "      <td>1.0</td>\n",
              "      <td>0</td>\n",
              "      <td>1</td>\n",
              "    </tr>\n",
              "    <tr>\n",
              "      <th>1</th>\n",
              "      <td>NaN</td>\n",
              "      <td>NaN</td>\n",
              "      <td>1.5</td>\n",
              "      <td>NaN</td>\n",
              "      <td>NaN</td>\n",
              "      <td>NaN</td>\n",
              "      <td>NaN</td>\n",
              "      <td>NaN</td>\n",
              "      <td>NaN</td>\n",
              "      <td>NaN</td>\n",
              "      <td>...</td>\n",
              "      <td>3.0</td>\n",
              "      <td>1.0</td>\n",
              "      <td>1.0</td>\n",
              "      <td>6.0</td>\n",
              "      <td>5.0</td>\n",
              "      <td>3.0</td>\n",
              "      <td>2.0</td>\n",
              "      <td>1.0</td>\n",
              "      <td>0</td>\n",
              "      <td>0</td>\n",
              "    </tr>\n",
              "    <tr>\n",
              "      <th>2</th>\n",
              "      <td>NaN</td>\n",
              "      <td>NaN</td>\n",
              "      <td>NaN</td>\n",
              "      <td>NaN</td>\n",
              "      <td>NaN</td>\n",
              "      <td>NaN</td>\n",
              "      <td>NaN</td>\n",
              "      <td>NaN</td>\n",
              "      <td>NaN</td>\n",
              "      <td>NaN</td>\n",
              "      <td>...</td>\n",
              "      <td>5.0</td>\n",
              "      <td>4.0</td>\n",
              "      <td>3.0</td>\n",
              "      <td>5.0</td>\n",
              "      <td>5.0</td>\n",
              "      <td>4.0</td>\n",
              "      <td>4.0</td>\n",
              "      <td>1.0</td>\n",
              "      <td>1</td>\n",
              "      <td>0</td>\n",
              "    </tr>\n",
              "    <tr>\n",
              "      <th>3</th>\n",
              "      <td>NaN</td>\n",
              "      <td>NaN</td>\n",
              "      <td>2.0</td>\n",
              "      <td>NaN</td>\n",
              "      <td>3.0</td>\n",
              "      <td>NaN</td>\n",
              "      <td>NaN</td>\n",
              "      <td>NaN</td>\n",
              "      <td>NaN</td>\n",
              "      <td>4.0</td>\n",
              "      <td>...</td>\n",
              "      <td>3.0</td>\n",
              "      <td>1.0</td>\n",
              "      <td>1.0</td>\n",
              "      <td>4.0</td>\n",
              "      <td>5.0</td>\n",
              "      <td>3.0</td>\n",
              "      <td>1.0</td>\n",
              "      <td>1.0</td>\n",
              "      <td>0</td>\n",
              "      <td>1</td>\n",
              "    </tr>\n",
              "    <tr>\n",
              "      <th>4</th>\n",
              "      <td>NaN</td>\n",
              "      <td>NaN</td>\n",
              "      <td>3.5</td>\n",
              "      <td>NaN</td>\n",
              "      <td>0.5</td>\n",
              "      <td>NaN</td>\n",
              "      <td>0.5</td>\n",
              "      <td>1.0</td>\n",
              "      <td>NaN</td>\n",
              "      <td>0.0</td>\n",
              "      <td>...</td>\n",
              "      <td>2.0</td>\n",
              "      <td>3.0</td>\n",
              "      <td>2.0</td>\n",
              "      <td>5.0</td>\n",
              "      <td>6.0</td>\n",
              "      <td>4.0</td>\n",
              "      <td>4.0</td>\n",
              "      <td>1.0</td>\n",
              "      <td>1</td>\n",
              "      <td>1</td>\n",
              "    </tr>\n",
              "  </tbody>\n",
              "</table>\n",
              "<p>5 rows × 477 columns</p>\n",
              "</div>\n",
              "      <button class=\"colab-df-convert\" onclick=\"convertToInteractive('df-5dd2f714-a094-4245-b6ac-475faa2833b2')\"\n",
              "              title=\"Convert this dataframe to an interactive table.\"\n",
              "              style=\"display:none;\">\n",
              "        \n",
              "  <svg xmlns=\"http://www.w3.org/2000/svg\" height=\"24px\"viewBox=\"0 0 24 24\"\n",
              "       width=\"24px\">\n",
              "    <path d=\"M0 0h24v24H0V0z\" fill=\"none\"/>\n",
              "    <path d=\"M18.56 5.44l.94 2.06.94-2.06 2.06-.94-2.06-.94-.94-2.06-.94 2.06-2.06.94zm-11 1L8.5 8.5l.94-2.06 2.06-.94-2.06-.94L8.5 2.5l-.94 2.06-2.06.94zm10 10l.94 2.06.94-2.06 2.06-.94-2.06-.94-.94-2.06-.94 2.06-2.06.94z\"/><path d=\"M17.41 7.96l-1.37-1.37c-.4-.4-.92-.59-1.43-.59-.52 0-1.04.2-1.43.59L10.3 9.45l-7.72 7.72c-.78.78-.78 2.05 0 2.83L4 21.41c.39.39.9.59 1.41.59.51 0 1.02-.2 1.41-.59l7.78-7.78 2.81-2.81c.8-.78.8-2.07 0-2.86zM5.41 20L4 18.59l7.72-7.72 1.47 1.35L5.41 20z\"/>\n",
              "  </svg>\n",
              "      </button>\n",
              "      \n",
              "  <style>\n",
              "    .colab-df-container {\n",
              "      display:flex;\n",
              "      flex-wrap:wrap;\n",
              "      gap: 12px;\n",
              "    }\n",
              "\n",
              "    .colab-df-convert {\n",
              "      background-color: #E8F0FE;\n",
              "      border: none;\n",
              "      border-radius: 50%;\n",
              "      cursor: pointer;\n",
              "      display: none;\n",
              "      fill: #1967D2;\n",
              "      height: 32px;\n",
              "      padding: 0 0 0 0;\n",
              "      width: 32px;\n",
              "    }\n",
              "\n",
              "    .colab-df-convert:hover {\n",
              "      background-color: #E2EBFA;\n",
              "      box-shadow: 0px 1px 2px rgba(60, 64, 67, 0.3), 0px 1px 3px 1px rgba(60, 64, 67, 0.15);\n",
              "      fill: #174EA6;\n",
              "    }\n",
              "\n",
              "    [theme=dark] .colab-df-convert {\n",
              "      background-color: #3B4455;\n",
              "      fill: #D2E3FC;\n",
              "    }\n",
              "\n",
              "    [theme=dark] .colab-df-convert:hover {\n",
              "      background-color: #434B5C;\n",
              "      box-shadow: 0px 1px 3px 1px rgba(0, 0, 0, 0.15);\n",
              "      filter: drop-shadow(0px 1px 2px rgba(0, 0, 0, 0.3));\n",
              "      fill: #FFFFFF;\n",
              "    }\n",
              "  </style>\n",
              "\n",
              "      <script>\n",
              "        const buttonEl =\n",
              "          document.querySelector('#df-5dd2f714-a094-4245-b6ac-475faa2833b2 button.colab-df-convert');\n",
              "        buttonEl.style.display =\n",
              "          google.colab.kernel.accessAllowed ? 'block' : 'none';\n",
              "\n",
              "        async function convertToInteractive(key) {\n",
              "          const element = document.querySelector('#df-5dd2f714-a094-4245-b6ac-475faa2833b2');\n",
              "          const dataTable =\n",
              "            await google.colab.kernel.invokeFunction('convertToInteractive',\n",
              "                                                     [key], {});\n",
              "          if (!dataTable) return;\n",
              "\n",
              "          const docLinkHtml = 'Like what you see? Visit the ' +\n",
              "            '<a target=\"_blank\" href=https://colab.research.google.com/notebooks/data_table.ipynb>data table notebook</a>'\n",
              "            + ' to learn more about interactive tables.';\n",
              "          element.innerHTML = '';\n",
              "          dataTable['output_type'] = 'display_data';\n",
              "          await google.colab.output.renderOutput(dataTable, element);\n",
              "          const docLink = document.createElement('div');\n",
              "          docLink.innerHTML = docLinkHtml;\n",
              "          element.appendChild(docLink);\n",
              "        }\n",
              "      </script>\n",
              "    </div>\n",
              "  </div>\n",
              "  "
            ]
          },
          "metadata": {},
          "execution_count": 39
        }
      ]
    },
    {
      "cell_type": "code",
      "source": [
        "def get_median_distribution(x_columns, y_columns, label_type):\n",
        "    x_medians = df[x_columns].median()\n",
        "    y_medians = df[y_columns].median()\n",
        "    median_of_x = np.median(x_medians.values)\n",
        "    median_of_y = np.median(y_medians.values)\n",
        "\n",
        "    # plt.scatter(x_medians.value_counts().keys(), x_medians.value_counts().values, label=label_type)\n",
        "    # plt.scatter(y_medians.value_counts().keys(), y_medians.value_counts().values, label=\"Not \"+label_type)\n",
        "    # plt.legend()\n",
        "\n",
        "    # print(label_type, \": median :\", median_of_x)\n",
        "    # print(x_medians.value_counts())\n",
        "    # print(\"\\n\\nNot \"+label_type, \": median :\", median_of_y)\n",
        "    # print(y_medians.value_counts())\n",
        "\n",
        "    return x_medians, y_medians\n",
        "\n",
        "def check_category_difference(movie_name, c1_data, c2_data):\n",
        "  c1 = c1_data[movie_name].values\n",
        "  c1 = c1[np.isfinite(c1)]\n",
        "  c2 = c2_data[movie_name].values\n",
        "  c2 = c2[np.isfinite(c2)]\n",
        "  t, p = ttest_ind(c1, c2)\n",
        "  # U1, p = mannwhitneyu(c1, c2, alternative=\"two-sided\",method=\"exact\")\n",
        "  return(p)\n",
        "\n",
        "def check_difference(c1_data, c2_data):\n",
        "  c1 = c1_data.values\n",
        "  c1 = c1[np.isfinite(c1)]\n",
        "  c2 = c2_data.values\n",
        "  c2 = c2[np.isfinite(c2)]\n",
        "  t, p = ttest_ind(c1, c2)\n",
        "  return(p)"
      ],
      "metadata": {
        "id": "5_eduHjB7z2x"
      },
      "execution_count": null,
      "outputs": []
    },
    {
      "cell_type": "markdown",
      "source": [
        "## 1. Popularity Effect"
      ],
      "metadata": {
        "id": "U8WHnnT677ua"
      }
    },
    {
      "cell_type": "code",
      "source": [
        "movies = df.iloc[:,:400]\n",
        "popularity_index = (movies.shape[0] - movies.isnull().sum()).sort_values()\n",
        "not_popular_movies = list(popularity_index[:200].keys())\n",
        "popular_movies = list(popularity_index[200:].keys())\n",
        "x, y = get_median_distribution(popular_movies, not_popular_movies, \"Popular\")\n",
        "# U1, p = mannwhitneyu(x, y, alternative=\"greater\",method=\"exact\")\n",
        "# print(U1, p)\n",
        "# print(\"\\n\\nP value =\", p)"
      ],
      "metadata": {
        "id": "ABAS0ban71on"
      },
      "execution_count": null,
      "outputs": []
    },
    {
      "cell_type": "markdown",
      "source": [
        "## 2. New vs Old - Age Effect"
      ],
      "metadata": {
        "id": "tP3eS08o8CnQ"
      }
    },
    {
      "cell_type": "code",
      "source": [
        "movie_date = []\n",
        "for column in movies.columns:\n",
        "    movie_date.append((column, int(column[-5:-1])))\n",
        "sorted_movie_date = sorted(movie_date, key=lambda x:x[1])\n",
        "old_movies = sorted_movie_date[:200]\n",
        "new_movies = sorted_movie_date[200:]\n",
        "old_movies_list = [x[0] for x in old_movies]\n",
        "new_movies_list = [x[0] for x in new_movies]\n",
        "x, y = get_median_distribution(new_movies_list, old_movies_list, \"Newer\")\n",
        "# U1, p = mannwhitneyu(x, y, alternative=\"two-sided\",method=\"exact\")\n",
        "# print(U1, p)\n",
        "# print(\"\\n\\nP value =\", p)"
      ],
      "metadata": {
        "id": "fC9W9h7E741m"
      },
      "execution_count": null,
      "outputs": []
    },
    {
      "cell_type": "markdown",
      "source": [
        "## 3. Shrek - Gender Effect"
      ],
      "metadata": {
        "id": "2VMz1m7wBMm2"
      }
    },
    {
      "cell_type": "code",
      "source": [
        "gender_column = \"Gender identity (1 = female; 2 = male; 3 = self-described)\"\n",
        "male_data =  df[df[gender_column]==2].iloc[:,:400]\n",
        "female_data =  df[df[gender_column]==1].iloc[:,:400]\n",
        "# self_described_data = df[df[gender_column]==3].iloc[:,:400]\n",
        "\n",
        "p = check_category_difference(\"Shrek (2001)\", male_data, female_data)\n",
        "print(\"P value =\", p)"
      ],
      "metadata": {
        "colab": {
          "base_uri": "https://localhost:8080/"
        },
        "id": "WD28PvE_9ep_",
        "outputId": "9ce2967b-96df-4c70-e2c4-ca8ccfadf9c0"
      },
      "execution_count": null,
      "outputs": [
        {
          "output_type": "stream",
          "name": "stdout",
          "text": [
            "P value = 0.27087511813734183\n"
          ]
        }
      ]
    },
    {
      "cell_type": "markdown",
      "source": [
        "## 4. Proportion of Movies - Gender Effect"
      ],
      "metadata": {
        "id": "uTd1dUFgK1KO"
      }
    },
    {
      "cell_type": "code",
      "source": [
        "columns = movies.columns\n",
        "count = 0\n",
        "for column in columns:\n",
        "  p = check_category_difference(column, male_data, female_data)\n",
        "  if p<=0.005:\n",
        "    # print(column, p)\n",
        "    count+=1\n",
        "print(count, \"/\",len(columns))\n",
        "print(\"Propotion :\", count/ len(columns))"
      ],
      "metadata": {
        "colab": {
          "base_uri": "https://localhost:8080/"
        },
        "id": "C0cxCiYDGeZs",
        "outputId": "94478bb2-c6c6-4e29-9e94-f0203851a017"
      },
      "execution_count": null,
      "outputs": [
        {
          "output_type": "stream",
          "name": "stdout",
          "text": [
            "46 / 400\n",
            "Propotion : 0.115\n"
          ]
        }
      ]
    },
    {
      "cell_type": "markdown",
      "source": [
        "## 5. Lion King - Only Child Effect "
      ],
      "metadata": {
        "id": "bIx_r5cpK9ht"
      }
    },
    {
      "cell_type": "code",
      "source": [
        "only_child_columns = \"Are you an only child? (1: Yes; 0: No; -1: Did not respond)\"\n",
        "only_child_data =  df[df[only_child_columns]==1].iloc[:,:400]\n",
        "sibling_data =  df[df[only_child_columns]==0].iloc[:,:400]\n",
        "p = check_category_difference(\"The Lion King (1994)\", only_child_data, sibling_data)\n",
        "print(\"P value =\", p)"
      ],
      "metadata": {
        "colab": {
          "base_uri": "https://localhost:8080/"
        },
        "id": "ndZcdGVeHKSI",
        "outputId": "c6655c97-7b24-4094-ee04-2789a7a86135"
      },
      "execution_count": null,
      "outputs": [
        {
          "output_type": "stream",
          "name": "stdout",
          "text": [
            "P value = 0.04026705526268264\n"
          ]
        }
      ]
    },
    {
      "cell_type": "markdown",
      "source": [
        "## 6. Proportion of Movies - Only Child Effect "
      ],
      "metadata": {
        "id": "djw2BxHsOrBn"
      }
    },
    {
      "cell_type": "code",
      "source": [
        "columns = movies.columns\n",
        "count = 0\n",
        "for column in columns:\n",
        "  p = check_category_difference(column, only_child_data, sibling_data)\n",
        "  if p<=0.005:\n",
        "    # print(column, p)\n",
        "    count+=1\n",
        "print(count, \"/\",len(columns))\n",
        "print(\"Propotion :\", count/ len(columns))"
      ],
      "metadata": {
        "colab": {
          "base_uri": "https://localhost:8080/"
        },
        "id": "_1vsccbBLvFc",
        "outputId": "da05bd2c-23a6-4e31-b63a-5abb7dacf42d"
      },
      "execution_count": null,
      "outputs": [
        {
          "output_type": "stream",
          "name": "stdout",
          "text": [
            "10 / 400\n",
            "Propotion : 0.025\n"
          ]
        }
      ]
    },
    {
      "cell_type": "markdown",
      "source": [
        "## 7. The Wolf of Wall Street - Social Watching Effect "
      ],
      "metadata": {
        "id": "B12JMz05PCqq"
      }
    },
    {
      "cell_type": "code",
      "source": [
        "social_watching_columns = \"Movies are best enjoyed alone (1: Yes; 0: No; -1: Did not respond)\"\n",
        "alone_data =  df[df[social_watching_columns]==1].iloc[:,:400]\n",
        "social_data =  df[df[social_watching_columns]==0].iloc[:,:400]\n",
        "p = check_category_difference(\"The Wolf of Wall Street (2013)\", alone_data, social_data)\n",
        "print(\"P value =\", p)"
      ],
      "metadata": {
        "colab": {
          "base_uri": "https://localhost:8080/"
        },
        "id": "4eqvZI1gPCa1",
        "outputId": "f88887f9-3a97-4f63-bb95-f675060f02cd"
      },
      "execution_count": null,
      "outputs": [
        {
          "output_type": "stream",
          "name": "stdout",
          "text": [
            "P value = 0.11738913665664574\n"
          ]
        }
      ]
    },
    {
      "cell_type": "markdown",
      "source": [
        "## 8. Proportion of Movies - Social Watching Effect "
      ],
      "metadata": {
        "id": "eMCFOXbWPUg_"
      }
    },
    {
      "cell_type": "code",
      "source": [
        "columns = movies.columns\n",
        "count = 0\n",
        "for column in columns:\n",
        "  p = check_category_difference(column, alone_data, social_data)\n",
        "  if p<=0.005:\n",
        "    # print(column, p)\n",
        "    count+=1\n",
        "print(count, \"/\",len(columns))\n",
        "print(\"Propotion :\", count/ len(columns))"
      ],
      "metadata": {
        "colab": {
          "base_uri": "https://localhost:8080/"
        },
        "id": "Ay0X6EeTPadB",
        "outputId": "7ecf647b-6366-4e61-ccad-75127afb3ffa"
      },
      "execution_count": null,
      "outputs": [
        {
          "output_type": "stream",
          "name": "stdout",
          "text": [
            "6 / 400\n",
            "Propotion : 0.015\n"
          ]
        }
      ]
    },
    {
      "cell_type": "markdown",
      "source": [
        "## 9. Home Alone VS Finding Nemo"
      ],
      "metadata": {
        "id": "r3a9htJKQUMb"
      }
    },
    {
      "cell_type": "code",
      "source": [
        "home_alone = df[\"Home Alone (1990)\"]\n",
        "nemo = df[\"Finding Nemo (2003)\"]\n",
        "p = check_difference(home_alone, nemo)\n",
        "print(\"P value =\", p)"
      ],
      "metadata": {
        "colab": {
          "base_uri": "https://localhost:8080/"
        },
        "id": "9DzqH_zqQNUC",
        "outputId": "efff8c91-c126-4e57-b407-bccb5baeaceb"
      },
      "execution_count": null,
      "outputs": [
        {
          "output_type": "stream",
          "name": "stdout",
          "text": [
            "P value = 6.405049625567131e-11\n"
          ]
        }
      ]
    },
    {
      "cell_type": "markdown",
      "source": [
        "## 10. Consistency of Franchises "
      ],
      "metadata": {
        "id": "_Dr3LgT1RnF0"
      }
    },
    {
      "cell_type": "code",
      "source": [
        "franchises = [\"Star Wars\", \"Harry Potter\", \"The Matrix\", \"Indiana Jones\", \"Jurassic Park\", \"Pirates of the Caribbean\", \"Toy Story\", \"Batman\"]\n",
        "franchise_groups = {}\n",
        "for franchise in franchises:\n",
        "  franchise_groups[franchise] = []\n",
        "  print(\"\\n\"+franchise)\n",
        "  for c in df.columns:\n",
        "    if franchise in c:\n",
        "      franchise_groups[franchise].append(c)\n",
        "      print(c)\n"
      ],
      "metadata": {
        "colab": {
          "base_uri": "https://localhost:8080/"
        },
        "id": "thwtwBAwQNI5",
        "outputId": "df537cac-42a7-408a-efe8-30a25f4486a9"
      },
      "execution_count": null,
      "outputs": [
        {
          "output_type": "stream",
          "name": "stdout",
          "text": [
            "\n",
            "Star Wars\n",
            "Star Wars: Episode IV - A New Hope (1977)\n",
            "Star Wars: Episode II - Attack of the Clones (2002)\n",
            "Star Wars: Episode V - The Empire Strikes Back (1980)\n",
            "Star Wars: Episode 1 - The Phantom Menace (1999)\n",
            "Star Wars: Episode VII - The Force Awakens (2015)\n",
            "Star Wars: Episode VI - The Return of the Jedi (1983)\n",
            "\n",
            "Harry Potter\n",
            "Harry Potter and the Sorcerer's Stone (2001)\n",
            "Harry Potter and the Deathly Hallows: Part 2 (2011)\n",
            "Harry Potter and the Goblet of Fire (2005)\n",
            "Harry Potter and the Chamber of Secrets (2002)\n",
            "\n",
            "The Matrix\n",
            "The Matrix Revolutions (2003)\n",
            "The Matrix Reloaded (2003)\n",
            "The Matrix (1999)\n",
            "\n",
            "Indiana Jones\n",
            "Indiana Jones and the Last Crusade (1989)\n",
            "Indiana Jones and the Temple of Doom (1984)\n",
            "Indiana Jones and the Raiders of the Lost Ark (1981)\n",
            "Indiana Jones and the Kingdom of the Crystal Skull (2008)\n",
            "\n",
            "Jurassic Park\n",
            "The Lost World: Jurassic Park (1997)\n",
            "Jurassic Park III (2001)\n",
            "Jurassic Park (1993)\n",
            "\n",
            "Pirates of the Caribbean\n",
            "Pirates of the Caribbean: Dead Man's Chest (2006)\n",
            "Pirates of the Caribbean: At World's End (2007)\n",
            "Pirates of the Caribbean: The Curse of the Black Pearl (2003)\n",
            "\n",
            "Toy Story\n",
            "Toy Story 2 (1999)\n",
            "Toy Story 3 (2010)\n",
            "Toy Story (1995)\n",
            "\n",
            "Batman\n",
            "Batman & Robin (1997)\n",
            "Batman (1989)\n",
            "Batman: The Dark Knight (2008)\n"
          ]
        }
      ]
    },
    {
      "cell_type": "code",
      "source": [
        "for k,v in franchise_groups.items():\n",
        "  print(k,len(v))"
      ],
      "metadata": {
        "colab": {
          "base_uri": "https://localhost:8080/"
        },
        "id": "fT7i33eLS942",
        "outputId": "1a9a035d-6079-4c89-c423-15e8556276b4"
      },
      "execution_count": null,
      "outputs": [
        {
          "output_type": "stream",
          "name": "stdout",
          "text": [
            "Star Wars 6\n",
            "Harry Potter 4\n",
            "The Matrix 3\n",
            "Indiana Jones 4\n",
            "Jurassic Park 3\n",
            "Pirates of the Caribbean 3\n",
            "Toy Story 3\n",
            "Batman 3\n"
          ]
        }
      ]
    },
    {
      "cell_type": "code",
      "source": [
        "for c in df.columns:\n",
        "  if \"Nemo\" in c:\n",
        "    print(c)"
      ],
      "metadata": {
        "colab": {
          "base_uri": "https://localhost:8080/"
        },
        "id": "EXSOY2kaL5tT",
        "outputId": "b1e8a1f6-f090-4728-ed92-1863e75806b6"
      },
      "execution_count": null,
      "outputs": [
        {
          "output_type": "stream",
          "name": "stdout",
          "text": [
            "Finding Nemo (2003)\n"
          ]
        }
      ]
    },
    {
      "cell_type": "code",
      "source": [],
      "metadata": {
        "id": "hFLscBcsPfcW"
      },
      "execution_count": null,
      "outputs": []
    }
  ]
}